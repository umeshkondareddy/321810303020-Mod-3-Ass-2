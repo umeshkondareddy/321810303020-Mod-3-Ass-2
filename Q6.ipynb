{
 "cells": [
  {
   "cell_type": "code",
   "execution_count": 6,
   "metadata": {},
   "outputs": [
    {
     "name": "stdout",
     "output_type": "stream",
     "text": [
      "enter a string:AKshAi\n",
      "the string in upper case is: AKSHAI\n",
      "the string in lower case is: akshai\n"
     ]
    }
   ],
   "source": [
    "str=input(\"enter a string:\")\n",
    "print(\"the string in upper case is:\",str.upper())\n",
    "print(\"the string in lower case is:\",str.lower())"
   ]
  }
 ],
 "metadata": {
  "kernelspec": {
   "display_name": "Python 3",
   "language": "python",
   "name": "python3"
  },
  "language_info": {
   "codemirror_mode": {
    "name": "ipython",
    "version": 3
   },
   "file_extension": ".py",
   "mimetype": "text/x-python",
   "name": "python",
   "nbconvert_exporter": "python",
   "pygments_lexer": "ipython3",
   "version": "3.7.6"
  }
 },
 "nbformat": 4,
 "nbformat_minor": 4
}
