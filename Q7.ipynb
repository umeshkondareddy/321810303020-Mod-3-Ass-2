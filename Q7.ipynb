{
 "cells": [
  {
   "cell_type": "code",
   "execution_count": 3,
   "metadata": {},
   "outputs": [
    {
     "name": "stdout",
     "output_type": "stream",
     "text": [
      "enter a string:narayanappa\n",
      "enter a sub string:y\n",
      "the occurance of a sub string in the string is: 1\n"
     ]
    }
   ],
   "source": [
    "str=input(\"enter a string:\")\n",
    "sub=input(\"enter a sub string:\")\n",
    "count=0\n",
    "for i in str:\n",
    "    if sub==i:\n",
    "        count+=1\n",
    "print(\"the occurance of a sub string in the string is:\",count)"
   ]
  }
 ],
 "metadata": {
  "kernelspec": {
   "display_name": "Python 3",
   "language": "python",
   "name": "python3"
  },
  "language_info": {
   "codemirror_mode": {
    "name": "ipython",
    "version": 3
   },
   "file_extension": ".py",
   "mimetype": "text/x-python",
   "name": "python",
   "nbconvert_exporter": "python",
   "pygments_lexer": "ipython3",
   "version": "3.7.6"
  }
 },
 "nbformat": 4,
 "nbformat_minor": 4
}
